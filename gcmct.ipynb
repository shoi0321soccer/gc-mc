{
  "nbformat": 4,
  "nbformat_minor": 0,
  "metadata": {
    "colab": {
      "name": "gcmct.ipynb",
      "provenance": [],
      "collapsed_sections": [],
      "machine_shape": "hm",
      "authorship_tag": "ABX9TyNioulxWvnzu0Ln+M/pazgb",
      "include_colab_link": true
    },
    "kernelspec": {
      "display_name": "Python 3",
      "name": "python3"
    },
    "accelerator": "GPU"
  },
  "cells": [
    {
      "cell_type": "markdown",
      "metadata": {
        "id": "view-in-github",
        "colab_type": "text"
      },
      "source": [
        "<a href=\"https://colab.research.google.com/github/shoi0321soccer/gc-mc/blob/master/gcmct.ipynb\" target=\"_parent\"><img src=\"https://colab.research.google.com/assets/colab-badge.svg\" alt=\"Open In Colab\"/></a>"
      ]
    },
    {
      "cell_type": "code",
      "metadata": {
        "colab": {
          "base_uri": "https://localhost:8080/"
        },
        "id": "aEFiPg2Zc6BM",
        "outputId": "72256f44-c1d7-4dd7-b294-3d0dccaab2c2"
      },
      "source": [
        "!git clone https://github.com/riannevdberg/gc-mc.git"
      ],
      "execution_count": 1,
      "outputs": [
        {
          "output_type": "stream",
          "text": [
            "Cloning into 'gc-mc'...\n",
            "remote: Enumerating objects: 54, done.\u001b[K\n",
            "remote: Total 54 (delta 0), reused 0 (delta 0), pack-reused 54\u001b[K\n",
            "Unpacking objects: 100% (54/54), done.\n"
          ],
          "name": "stdout"
        }
      ]
    },
    {
      "cell_type": "code",
      "metadata": {
        "colab": {
          "base_uri": "https://localhost:8080/"
        },
        "id": "z2C21ES6dER3",
        "outputId": "90599c44-1316-43a9-c26f-e3bba6e97b45"
      },
      "source": [
        "%cd gc-mc"
      ],
      "execution_count": 2,
      "outputs": [
        {
          "output_type": "stream",
          "text": [
            "/content/gc-mc\n"
          ],
          "name": "stdout"
        }
      ]
    },
    {
      "cell_type": "code",
      "metadata": {
        "id": "Maz8pPoVdN4w"
      },
      "source": [
        "!python2 setup.py install"
      ],
      "execution_count": null,
      "outputs": []
    },
    {
      "cell_type": "code",
      "metadata": {
        "id": "7MxBRGCAeqsn"
      },
      "source": [
        "!pip2 install tensorflow==1.4"
      ],
      "execution_count": null,
      "outputs": []
    },
    {
      "cell_type": "code",
      "metadata": {
        "colab": {
          "base_uri": "https://localhost:8080/"
        },
        "id": "51eEwiOgfDGA",
        "outputId": "c6dd725f-62af-41f5-dcb3-b1ab6c3ecfef"
      },
      "source": [
        "%cd gcmc"
      ],
      "execution_count": 5,
      "outputs": [
        {
          "output_type": "stream",
          "text": [
            "/content/gc-mc/gcmc\n"
          ],
          "name": "stdout"
        }
      ]
    },
    {
      "cell_type": "code",
      "metadata": {
        "id": "Sdzu-v81Kcfb"
      },
      "source": [
        "from tensorflow.python.client import device_lib\r\n",
        "device_lib.list_local_devices()"
      ],
      "execution_count": null,
      "outputs": []
    },
    {
      "cell_type": "code",
      "metadata": {
        "colab": {
          "base_uri": "https://localhost:8080/"
        },
        "id": "_JDF7EELdWdI",
        "outputId": "2a9b4951-a44c-4cf3-fcb0-62936202c623"
      },
      "source": [
        "!python2 train.py -d ml_100k --accum stack -do 0.7 -nleft -nb 2 -e 10 --features --feat_hidden 10"
      ],
      "execution_count": 24,
      "outputs": [
        {
          "output_type": "stream",
          "text": [
            "Settings:\n",
            "{'features': True, 'feat_hidden': 10, 'norm_symmetric': False, 'learning_rate': 0.01, 'testing': False, 'dataset': 'ml_100k', 'epochs': 10, 'num_basis_functions': 2, 'summaries_dir': 'logs/2020-12-20_08:22:47.548321', 'data_seed': 1234, 'hidden': [500, 75], 'dropout': 0.7, 'accumulation': 'stack', 'write_summary': False} \n",
            "\n",
            "Using official MovieLens dataset split u1.base/u1.test with 20% validation set size...\n",
            "/usr/local/lib/python2.7/dist-packages/gcmc-0.1-py2.7.egg/gcmc/preprocessing.py:357: FutureWarning: Method .as_matrix will be removed in a future version. Use .values instead.\n",
            "/usr/local/lib/python2.7/dist-packages/gcmc-0.1-py2.7.egg/gcmc/preprocessing.py:359: FutureWarning: Method .as_matrix will be removed in a future version. Use .values instead.\n",
            "User features shape: (943, 23)\n",
            "Item features shape: (1682, 18)\n",
            "943 1682\n",
            "(943, 23) (1682, 18) (943, 1682) (64000,) (64000,) (64000,)\n",
            "(16000,) (16000,) (16000,)\n",
            "(20000,) (20000,) (20000,)\n",
            "Normalizing feature vectors...\n",
            "/usr/local/lib/python2.7/dist-packages/tensorflow/python/ops/gradients_impl.py:96: UserWarning: Converting sparse IndexedSlices to a dense Tensor of unknown shape. This may consume a large amount of memory.\n",
            "  \"Converting sparse IndexedSlices to a dense Tensor of unknown shape. \"\n",
            "2020-12-20 08:22:52.047066: I tensorflow/core/platform/cpu_feature_guard.cc:137] Your CPU supports instructions that this TensorFlow binary was not compiled to use: SSE4.1 SSE4.2 AVX AVX2 FMA\n",
            "Training...\n",
            "polyak val loss =  1.5078939\n",
            "polyak val rmse =  1.097425\n",
            "\n",
            "SETTINGS:\n",
            "\n",
            "accumulation stack\n",
            "data_seed 1234\n",
            "dataset ml_100k\n",
            "dropout 0.7\n",
            "epochs 10\n",
            "feat_hidden 10\n",
            "features True\n",
            "hidden [500, 75]\n",
            "learning_rate 0.01\n",
            "norm_symmetric False\n",
            "num_basis_functions 2\n",
            "summaries_dir logs/2020-12-20_08:22:47.548321\n",
            "testing False\n",
            "write_summary False\n",
            "global seed =  1608452567\n",
            "{\"features\": true, \"accumulation\": \"stack\", \"best_epoch\": 9, \"feat_hidden\": 10, \"learning_rate\": 0.01, \"testing\": false, \"dataset\": \"ml_100k\", \"epochs\": 10, \"num_basis_functions\": 2, \"summaries_dir\": \"logs/2020-12-20_08:22:47.548321\", \"dropout\": 0.7, \"best_val_score\": 1.0502842664718628, \"hidden\": [500, 75], \"norm_symmetric\": false, \"data_seed\": 1234, \"write_summary\": false}\n"
          ],
          "name": "stdout"
        }
      ]
    },
    {
      "cell_type": "code",
      "metadata": {
        "id": "yFE4X381fbdP"
      },
      "source": [
        "!python2 train.py -d yahoo_music --accum stack -do 0.7 -nleft -nb 2 -e 1 --features --feat_hidden 64 --testing"
      ],
      "execution_count": null,
      "outputs": []
    },
    {
      "cell_type": "code",
      "metadata": {
        "id": "t_GYuVmwr7aH"
      },
      "source": [
        "!python2 train.py -d yahoo_music --accum stack -do 0.7 -nleft -nb 2 -e 10"
      ],
      "execution_count": null,
      "outputs": []
    }
  ]
}